{
  "nbformat": 4,
  "nbformat_minor": 0,
  "metadata": {
    "colab": {
      "provenance": [],
      "authorship_tag": "ABX9TyPy7J1vRBaO7ISLRCShl9ff",
      "include_colab_link": true
    },
    "kernelspec": {
      "name": "python3",
      "display_name": "Python 3"
    },
    "language_info": {
      "name": "python"
    }
  },
  "cells": [
    {
      "cell_type": "markdown",
      "metadata": {
        "id": "view-in-github",
        "colab_type": "text"
      },
      "source": [
        "<a href=\"https://colab.research.google.com/github/spdr-lily/Descomplica-Data-Science/blob/main/analise_de_dados_de_imobiliaria.ipynb\" target=\"_parent\"><img src=\"https://colab.research.google.com/assets/colab-badge.svg\" alt=\"Open In Colab\"/></a>"
      ]
    },
    {
      "cell_type": "markdown",
      "source": [
        "# análise de dados fictícios de imóveis disponíveis em diferentes cidades\n",
        " um conjunto de dados fictícios contendo informações sobre imóveis, como cidade, número de quartos, preço e área"
      ],
      "metadata": {
        "id": "23ZZzcRL5JFW"
      }
    },
    {
      "cell_type": "code",
      "source": [
        "# importando biblioteca\n",
        "import pandas as pd"
      ],
      "metadata": {
        "id": "9HnZI7QXD9F7"
      },
      "execution_count": 2,
      "outputs": []
    },
    {
      "cell_type": "code",
      "source": [
        "# dados fictícios do mercado imobiliário\n",
        "dados = {\n",
        "    'Cidade':['São Paulo', 'Rio de Janeiro', 'Belo Horizonte'],\n",
        "    'Quartos':[3, 2, 4],\n",
        "    'Preço': [500000, 350000, 600000]\n",
        "}"
      ],
      "metadata": {
        "id": "vnYB61-X5RzK"
      },
      "execution_count": 1,
      "outputs": []
    },
    {
      "cell_type": "code",
      "source": [
        "# criando DataFrame dos dados\n",
        "df = pd.DataFrame(dados)"
      ],
      "metadata": {
        "id": "C8G70Kh9ESdp"
      },
      "execution_count": 4,
      "outputs": []
    },
    {
      "cell_type": "code",
      "source": [
        "print(df)"
      ],
      "metadata": {
        "colab": {
          "base_uri": "https://localhost:8080/"
        },
        "id": "5wpx4ZYjEjuo",
        "outputId": "94dfa9d3-1751-4a0c-a802-ee1e284c4d9d"
      },
      "execution_count": 5,
      "outputs": [
        {
          "output_type": "stream",
          "name": "stdout",
          "text": [
            "           Cidade  Quartos   Preço\n",
            "0       São Paulo        3  500000\n",
            "1  Rio de Janeiro        2  350000\n",
            "2  Belo Horizonte        4  600000\n"
          ]
        }
      ]
    },
    {
      "cell_type": "code",
      "source": [
        "# calcular a média de preço dos imóveis\n",
        "media_precos = df['Preço'].mean()\n",
        "print(media_precos)"
      ],
      "metadata": {
        "colab": {
          "base_uri": "https://localhost:8080/"
        },
        "id": "Wf58uiiBEoRf",
        "outputId": "cc4c7528-f988-4acd-99ee-67e94fa2edc6"
      },
      "execution_count": 6,
      "outputs": [
        {
          "output_type": "stream",
          "name": "stdout",
          "text": [
            "483333.3333333333\n"
          ]
        }
      ]
    },
    {
      "cell_type": "code",
      "source": [
        "# calcular a mediana\n",
        "mediana_precos = df['Preço'].median()\n",
        "print(mediana_precos)"
      ],
      "metadata": {
        "colab": {
          "base_uri": "https://localhost:8080/"
        },
        "id": "4z5qr3MGE3Kv",
        "outputId": "7d50b3cd-04bf-426c-fb49-e4e3880ab6d5"
      },
      "execution_count": 7,
      "outputs": [
        {
          "output_type": "stream",
          "name": "stdout",
          "text": [
            "500000.0\n"
          ]
        }
      ]
    },
    {
      "cell_type": "code",
      "source": [
        "# calcular desvio padrão\n",
        "desvio_padrao_precos = df['Preço'].std()\n",
        "print(desvio_padrao_precos)"
      ],
      "metadata": {
        "colab": {
          "base_uri": "https://localhost:8080/"
        },
        "id": "WWfTVeWtFF5A",
        "outputId": "febaf9ea-70f2-43c0-95aa-2df678ba77f7"
      },
      "execution_count": 8,
      "outputs": [
        {
          "output_type": "stream",
          "name": "stdout",
          "text": [
            "125830.57392117915\n"
          ]
        }
      ]
    },
    {
      "cell_type": "code",
      "source": [
        "# análise da média de preço\n",
        "print(\"\\nMédia de preços dos imóveis: R$\", media_precos)"
      ],
      "metadata": {
        "colab": {
          "base_uri": "https://localhost:8080/"
        },
        "id": "8cFD7HVhFhEX",
        "outputId": "f052bfc0-7836-446e-9193-e7ddde26e329"
      },
      "execution_count": 9,
      "outputs": [
        {
          "output_type": "stream",
          "name": "stdout",
          "text": [
            "\n",
            "Média de preços dos imóveis: R$ 483333.3333333333\n"
          ]
        }
      ]
    },
    {
      "cell_type": "code",
      "source": [
        "# análise de quais cidades tem os imóveis mais caros, em tremos de preço médio\n",
        "cidades_caras = df.groupby('Cidade')['Preço'].mean().sort_values(ascending=False)\n",
        "print(\"\\nCidades com os imóveis mais caros por ordem decrescente:\")\n",
        "print(cidades_caras)"
      ],
      "metadata": {
        "colab": {
          "base_uri": "https://localhost:8080/"
        },
        "id": "N-LB9EURGMSY",
        "outputId": "ae447c17-5b8e-4e5a-c870-264c61683f1c"
      },
      "execution_count": 12,
      "outputs": [
        {
          "output_type": "stream",
          "name": "stdout",
          "text": [
            "\n",
            "Cidades com os imóveis mais caros por ordem decrescente:\n",
            "Cidade\n",
            "Belo Horizonte    600000.0\n",
            "São Paulo         500000.0\n",
            "Rio de Janeiro    350000.0\n",
            "Name: Preço, dtype: float64\n"
          ]
        }
      ]
    },
    {
      "cell_type": "code",
      "source": [
        "# correlação entre o npúmero de quartos e preços dos imóveis\n",
        "correlacao = df['Quartos'].corr(df['Preço'])\n",
        "print(\"\\nCorrelação entre o número de quartos e o preço dos imóveis:\", correlacao)"
      ],
      "metadata": {
        "colab": {
          "base_uri": "https://localhost:8080/"
        },
        "id": "iOUtE67vGg0_",
        "outputId": "68fa51f5-24f1-4a77-f0fb-fefd11e1aed3"
      },
      "execution_count": 13,
      "outputs": [
        {
          "output_type": "stream",
          "name": "stdout",
          "text": [
            "\n",
            "Correlação entre o número de quartos e o preço dos imóveis: 0.993399267798783\n"
          ]
        }
      ]
    },
    {
      "cell_type": "code",
      "source": [],
      "metadata": {
        "id": "7BxVRSXOHNUh"
      },
      "execution_count": null,
      "outputs": []
    }
  ]
}