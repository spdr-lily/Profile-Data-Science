{
  "nbformat": 4,
  "nbformat_minor": 0,
  "metadata": {
    "colab": {
      "provenance": [],
      "authorship_tag": "ABX9TyPuQfix4+SJuPseivVrz2rC",
      "include_colab_link": true
    },
    "kernelspec": {
      "name": "python3",
      "display_name": "Python 3"
    },
    "language_info": {
      "name": "python"
    }
  },
  "cells": [
    {
      "cell_type": "markdown",
      "metadata": {
        "id": "view-in-github",
        "colab_type": "text"
      },
      "source": [
        "<a href=\"https://colab.research.google.com/github/spdr-lily/Descomplica-Data-Science/blob/main/Substituir_informa%C3%A7%C3%B5es_em_uma_String.ipynb\" target=\"_parent\"><img src=\"https://colab.research.google.com/assets/colab-badge.svg\" alt=\"Open In Colab\"/></a>"
      ]
    },
    {
      "cell_type": "markdown",
      "source": [
        "# Aplicar os conceitos de string"
      ],
      "metadata": {
        "id": "BqwMaT6ltelj"
      }
    },
    {
      "cell_type": "markdown",
      "source": [
        "# Objetivos: Substituir informações em uma String\n",
        "Desenvolva um script que contemple o seguinte contexto: O usuário informe uma frase e o script deve identificar se a primeira palavra é “Olá”. Caso seja, o script deve substituir o que vem depois dessa palavra “Olá” para “pessoal”.\n",
        "Um exemplo que pode ser utilizado é a frase “Olá mundo”."
      ],
      "metadata": {
        "id": "wD6KB9HItjcG"
      }
    },
    {
      "cell_type": "code",
      "execution_count": 1,
      "metadata": {
        "colab": {
          "base_uri": "https://localhost:8080/"
        },
        "id": "WgytgV7PtdRq",
        "outputId": "6fa11d0e-c04e-4664-cccf-fa210d45a74d"
      },
      "outputs": [
        {
          "output_type": "stream",
          "name": "stdout",
          "text": [
            "Insira uma frase: Olá pessoal!\n",
            "Olá pessoal\n"
          ]
        }
      ],
      "source": [
        "frase = input(\"Insira uma frase: \")\n",
        "\n",
        "palavras = frase.split()\n",
        "\n",
        "if palavras[0] == \"Olá\":\n",
        "  palavras[1:] = [\"pessoal\"]\n",
        "\n",
        "nova_frase = \" \".join(palavras)\n",
        "\n",
        "print(nova_frase)"
      ]
    },
    {
      "cell_type": "code",
      "source": [],
      "metadata": {
        "id": "zLDZkphdueIF"
      },
      "execution_count": null,
      "outputs": []
    }
  ]
}