{
  "nbformat": 4,
  "nbformat_minor": 0,
  "metadata": {
    "colab": {
      "provenance": [],
      "authorship_tag": "ABX9TyNSpflf8Sd+gwAhiF7/KGR5",
      "include_colab_link": true
    },
    "kernelspec": {
      "name": "python3",
      "display_name": "Python 3"
    },
    "language_info": {
      "name": "python"
    }
  },
  "cells": [
    {
      "cell_type": "markdown",
      "metadata": {
        "id": "view-in-github",
        "colab_type": "text"
      },
      "source": [
        "<a href=\"https://colab.research.google.com/github/spdr-lily/Descomplica-Data-Science/blob/main/Projeto_biblioteca_de_livros.ipynb\" target=\"_parent\"><img src=\"https://colab.research.google.com/assets/colab-badge.svg\" alt=\"Open In Colab\"/></a>"
      ]
    },
    {
      "cell_type": "markdown",
      "source": [
        "# Programar orientado a objetos\n",
        "Objetivos: Desenvolver códigos com o paradigma orientado a objetos\n",
        "\n",
        "Para aprimorarmos nosso conhecimento em orientação a objeto. Desenvolva um sistema de biblioteca em Python, aplicando os conceitos de orientação a objetos. Nesse sistema, deve ser possível um aluno alugar livros na biblioteca."
      ],
      "metadata": {
        "id": "GXMt-bS1vXim"
      }
    },
    {
      "cell_type": "code",
      "source": [
        "class Livro:\n",
        "  def __init__(self, titulo, autor, disponivel=True):\n",
        "    self.titulo = titulo\n",
        "    self.autor = autor\n",
        "    self.disponivel = disponivel\n",
        "\n",
        "  def alugar(self):\n",
        "    if self.disponivel:\n",
        "      self.disponivel = False\n",
        "      return True\n",
        "    else:\n",
        "      return False\n",
        "\n",
        "class Aluno:\n",
        "    def __init__(self, nome):\n",
        "      self.nome = nome\n",
        "      self.livros_alugados = []\n",
        "\n",
        "    def alugar_livro(self, livro):\n",
        "      if livro.alugar():\n",
        "        self.livros_alugados.append(livro)\n",
        "        print(f\"{self.nome} alugou {livro.titulo}\")\n",
        "      else:\n",
        "        print(\"Desculpe, este livro não está disnponível no momento.\")\n",
        "\n",
        "class Biblioteca:\n",
        "  def __init__(self):\n",
        "    self.livros = []\n",
        "\n",
        "  def adicionar_livro(self, livro):\n",
        "    self.livros.append(livro)"
      ],
      "metadata": {
        "id": "4epKuLFIcw-j"
      },
      "execution_count": 46,
      "outputs": []
    },
    {
      "cell_type": "code",
      "source": [
        "# exemplo de uso\n",
        "biblioteca = Biblioteca()\n",
        "\n",
        "livro01 = Livro(\"Paraíso Perdido\", \"John Milton\")\n",
        "livro02 = Livro(\"Os Cantos de Maldoror\", \"Conde Lautreaumont\")\n",
        "livro03 = Livro(\"Psicose\", \"Robert Bloch\")\n",
        "livro04 = Livro(\"Memórias póstumas de Brás Cubas\", \"Machado de Assis\")\n",
        "livro05 = Livro(\"O Príncipe\", \"Nicolau Maquiavel\")\n",
        "livro06 = Livro(\"Neuromancer\", \"Willian Gibson\")\n",
        "livro07 = Livro(\"Os 120 Dias de Sodoma\", \"Marquês de Sade\")\n",
        "livro08 = Livro(\"A Náusea\", \"Jean Paul Satre\")\n",
        "livro09 = Livro(\"O Estrangeiro\", \"Albert Camus\")\n",
        "livro10 = Livro(\"Feroz\", \"Emily Skaja\")\n",
        "livro11= Livro(\"O Anticristo\", \"Frederich Nietzche\")\n",
        "livro12 = Livro(\"Um Tempo no Inferno e Iluminações\", \"Arthur Rimbaud\")\n",
        "livro13 = Livro(\"O Livro de Lilith\", \"Barbara Black Koltuv\")\n",
        "livro14 = Livro(\"Entre Quatro Paredes\", \"Jean Paul Satre\")\n",
        "livro15 = Livro(\"Além do Bem e do Mal\", \"Frederich Nietzche\")"
      ],
      "metadata": {
        "id": "N6NPGinnyivJ"
      },
      "execution_count": 47,
      "outputs": []
    },
    {
      "cell_type": "code",
      "source": [
        "biblioteca.adicionar_livro(livro01)\n",
        "biblioteca.adicionar_livro(livro02)\n",
        "biblioteca.adicionar_livro(livro03)\n",
        "biblioteca.adicionar_livro(livro04)\n",
        "biblioteca.adicionar_livro(livro05)\n",
        "biblioteca.adicionar_livro(livro06)\n",
        "biblioteca.adicionar_livro(livro07)\n",
        "biblioteca.adicionar_livro(livro08)\n",
        "biblioteca.adicionar_livro(livro09)\n",
        "biblioteca.adicionar_livro(livro10)\n",
        "biblioteca.adicionar_livro(livro11)\n",
        "biblioteca.adicionar_livro(livro12)\n",
        "biblioteca.adicionar_livro(livro13)\n",
        "biblioteca.adicionar_livro(livro14)\n",
        "biblioteca.adicionar_livro(livro15)"
      ],
      "metadata": {
        "id": "r2MQJ8_7ym35"
      },
      "execution_count": 48,
      "outputs": []
    },
    {
      "cell_type": "code",
      "source": [
        "aluno = Aluno(\"Mike V\")\n",
        "aluno.alugar_livro(livro07)"
      ],
      "metadata": {
        "colab": {
          "base_uri": "https://localhost:8080/"
        },
        "id": "1JdkS4hv2Qlh",
        "outputId": "91e5c167-1f93-493d-bc7a-c2d29306745c"
      },
      "execution_count": 49,
      "outputs": [
        {
          "output_type": "stream",
          "name": "stdout",
          "text": [
            "Mike V alugou Os 120 Dias de Sodoma\n"
          ]
        }
      ]
    },
    {
      "cell_type": "code",
      "source": [],
      "metadata": {
        "id": "4WLCtbRV3ETJ"
      },
      "execution_count": null,
      "outputs": []
    }
  ]
}