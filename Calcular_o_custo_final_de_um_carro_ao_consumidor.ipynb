{
  "nbformat": 4,
  "nbformat_minor": 0,
  "metadata": {
    "colab": {
      "provenance": [],
      "authorship_tag": "ABX9TyOMpJLBvbrRq2fWjPfA5cHe",
      "include_colab_link": true
    },
    "kernelspec": {
      "name": "python3",
      "display_name": "Python 3"
    },
    "language_info": {
      "name": "python"
    }
  },
  "cells": [
    {
      "cell_type": "markdown",
      "metadata": {
        "id": "view-in-github",
        "colab_type": "text"
      },
      "source": [
        "<a href=\"https://colab.research.google.com/github/spdr-lily/Descomplica-Data-Science/blob/main/Calcular_o_custo_final_de_um_carro_ao_consumidor.ipynb\" target=\"_parent\"><img src=\"https://colab.research.google.com/assets/colab-badge.svg\" alt=\"Open In Colab\"/></a>"
      ]
    },
    {
      "cell_type": "code",
      "execution_count": null,
      "metadata": {
        "id": "85oiAVOHrlgt"
      },
      "outputs": [],
      "source": []
    },
    {
      "cell_type": "markdown",
      "source": [
        "# Aplicar os conceitos de operadores"
      ],
      "metadata": {
        "id": "MkoS9reYrr_s"
      }
    },
    {
      "cell_type": "markdown",
      "source": [
        "# Objetivos: Calcular o custo final de um carro ao consumidor"
      ],
      "metadata": {
        "id": "nhS7JgADryQJ"
      }
    },
    {
      "cell_type": "markdown",
      "source": [
        "Desenvolva um programa que contemple o seguinte contexto: O custo de um carro\n",
        "novo para o consumidor é a soma do custo de fábrica com a porcentagem do distribuidor e os impostos (aplicados ao custo de fábrica). Supondo que o percentual do distribuidor seja de 28% e os impostos sejam de 45%, escreva um código no qual o usuário deve informar o custo de fábrica de um carro e,\n",
        "em seguida, calcular e apresentar no console o custo final para o consumidor.\n",
        "\n",
        "Onde:\n",
        "\n",
        "Custo de fábrica é o valor base do carro.\n",
        "\n",
        "Percentual do distribuidor é a porcentagem do custo de fábrica que o distribuidor adiciona ao valor do carro.\n",
        "\n",
        "Impostos é a porcentagem do custo de fábrica que é aplicada como impostos sobre o valor do carro.\n",
        "\n",
        "Utilizando os valores fornecidos (percentual do distribuidor de 28% e impostos de 45%), a fórmula fica assim:\n",
        "\n",
        "Custo final = Custo de fábrica + (Custo de fábrica * 0.28) + (Custo de fábrica * 0.45)"
      ],
      "metadata": {
        "id": "8TLCrj0PsAKB"
      }
    },
    {
      "cell_type": "code",
      "source": [
        "# Solicitar ao usuário o custo de fábrica do carro\n",
        "custo_fabrica = float(input(\"Informe o custo de fábrica do carro: \"))\n",
        "\n",
        "# Definir as porcentagens do distribuidor e dos impostos\n",
        "percentual_distribuidor = 0.28\n",
        "impostos = 0.45\n",
        "\n",
        "# Calcular o custo final\n",
        "custo_final = custo_fabrica + (custo_fabrica * percentual_distribuidor) + (custo_fabrica * impostos)\n",
        "\n",
        "# Apresenta o custo final para o consumidor\n",
        "print(\"O custo final do carro para o consumidor é: \", custo_final)"
      ],
      "metadata": {
        "colab": {
          "base_uri": "https://localhost:8080/"
        },
        "id": "UqQIhjrHs0xe",
        "outputId": "e33fa308-fb41-4b5f-caa0-532de7661b50"
      },
      "execution_count": 4,
      "outputs": [
        {
          "output_type": "stream",
          "name": "stdout",
          "text": [
            "Informe o custo de fábrica do carro: 45000\n",
            "O custo final do carro para o consumidor é:  77850.0\n"
          ]
        }
      ]
    },
    {
      "cell_type": "code",
      "source": [],
      "metadata": {
        "id": "mJFLuRJKs1ga"
      },
      "execution_count": null,
      "outputs": []
    }
  ]
}