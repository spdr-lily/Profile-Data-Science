{
  "nbformat": 4,
  "nbformat_minor": 0,
  "metadata": {
    "colab": {
      "provenance": [],
      "authorship_tag": "ABX9TyNRDOnmJQSMHB2QBon38kmL",
      "include_colab_link": true
    },
    "kernelspec": {
      "name": "python3",
      "display_name": "Python 3"
    },
    "language_info": {
      "name": "python"
    }
  },
  "cells": [
    {
      "cell_type": "markdown",
      "metadata": {
        "id": "view-in-github",
        "colab_type": "text"
      },
      "source": [
        "<a href=\"https://colab.research.google.com/github/spdr-lily/Descomplica-Data-Science/blob/main/dados_ficticios_de_vendas_de_produtos_de_uma_loja.ipynb\" target=\"_parent\"><img src=\"https://colab.research.google.com/assets/colab-badge.svg\" alt=\"Open In Colab\"/></a>"
      ]
    },
    {
      "cell_type": "code",
      "execution_count": 2,
      "metadata": {
        "id": "yqNxYnJP4kNm"
      },
      "outputs": [],
      "source": [
        "# importação da biblioteca\n",
        "import pandas as pd"
      ]
    },
    {
      "cell_type": "code",
      "source": [
        "# criar os dados do DataFrame com os dados de vendas\n",
        "dados = pd.DataFrame({'Produt': ['Camiseta', 'Calça', 'Camiseta', 'Tênis', 'Calça'],\n",
        "                      'Cor': ['Azul', 'Preto', 'Branco', 'Vermelho', 'Azul'],\n",
        "                      'Tamanho': ['M', 'G', 'P', 'G', 'M'],\n",
        "                      'Preço': [29.99, 49.99, 19.99, 79.99, 39.99],\n",
        "                      'Quantidade': [5, 3, 2, 1, 4]})"
      ],
      "metadata": {
        "id": "CutloyVm5GdR"
      },
      "execution_count": 3,
      "outputs": []
    },
    {
      "cell_type": "code",
      "source": [
        "# exbir as primeiras linhas do DataFrame\n",
        "print(dados.head())"
      ],
      "metadata": {
        "colab": {
          "base_uri": "https://localhost:8080/"
        },
        "id": "yHMND0iYHC31",
        "outputId": "a77ba47f-6277-4972-a163-7ee6b36c74a1"
      },
      "execution_count": 4,
      "outputs": [
        {
          "output_type": "stream",
          "name": "stdout",
          "text": [
            "     Produt       Cor Tamanho  Preço  Quantidade\n",
            "0  Camiseta      Azul       M  29.99           5\n",
            "1     Calça     Preto       G  49.99           3\n",
            "2  Camiseta    Branco       P  19.99           2\n",
            "3     Tênis  Vermelho       G  79.99           1\n",
            "4     Calça      Azul       M  39.99           4\n"
          ]
        }
      ]
    },
    {
      "cell_type": "code",
      "source": [
        "# calcular o preço médio dos produtos\n",
        "preco_medio = dados['Preço'].mean()\n",
        "print(\"Preço médio dos produtos:\", preco_medio)"
      ],
      "metadata": {
        "colab": {
          "base_uri": "https://localhost:8080/"
        },
        "id": "b5biT6o_HJkg",
        "outputId": "8180afdb-3994-4f8a-ac1d-99626e0685ac"
      },
      "execution_count": 6,
      "outputs": [
        {
          "output_type": "stream",
          "name": "stdout",
          "text": [
            "Preço médio dos produtos: 43.989999999999995\n"
          ]
        }
      ]
    },
    {
      "cell_type": "code",
      "source": [
        "# selecionar as linhas que possuem a cor \"Azul\"\n",
        "produtos_azuis = dados[dados['Cor'] == 'Azul']\n",
        "print(\"Produtos na cor azul:\")\n",
        "print(produtos_azuis)"
      ],
      "metadata": {
        "colab": {
          "base_uri": "https://localhost:8080/"
        },
        "id": "euFs5719Hd4h",
        "outputId": "16070ad6-2778-4661-8a20-7ca3fa8428f2"
      },
      "execution_count": 8,
      "outputs": [
        {
          "output_type": "stream",
          "name": "stdout",
          "text": [
            "Produtos na cor azul:\n",
            "     Produt   Cor Tamanho  Preço  Quantidade\n",
            "0  Camiseta  Azul       M  29.99           5\n",
            "4     Calça  Azul       M  39.99           4\n"
          ]
        }
      ]
    },
    {
      "cell_type": "code",
      "source": [
        "# adicionar uma nova coluna chamada \"valor total\" qua calcula o valor total de cada venda (preço * quantidade)\n",
        "dados['Valor Total'] = dados['Preço'] * dados['Quantidade']\n",
        "print(dados)"
      ],
      "metadata": {
        "colab": {
          "base_uri": "https://localhost:8080/"
        },
        "id": "SiKmpZwQHyug",
        "outputId": "5a6bcba2-481c-424c-ef95-a330c411600e"
      },
      "execution_count": 9,
      "outputs": [
        {
          "output_type": "stream",
          "name": "stdout",
          "text": [
            "     Produt       Cor Tamanho  Preço  Quantidade  Valor Total\n",
            "0  Camiseta      Azul       M  29.99           5       149.95\n",
            "1     Calça     Preto       G  49.99           3       149.97\n",
            "2  Camiseta    Branco       P  19.99           2        39.98\n",
            "3     Tênis  Vermelho       G  79.99           1        79.99\n",
            "4     Calça      Azul       M  39.99           4       159.96\n"
          ]
        }
      ]
    },
    {
      "cell_type": "code",
      "source": [
        "# ordenar o DataFrame em ordem decrescente com base no valor total\n",
        "dados_ordenados = dados.sort_values('Valor Total', ascending=False)\n",
        "print(\"Dados ordenados pelo valor total:\")\n",
        "print(dados_ordenados)"
      ],
      "metadata": {
        "colab": {
          "base_uri": "https://localhost:8080/"
        },
        "id": "o_TaVf62IQX6",
        "outputId": "3708543c-b783-4c03-ed03-5dfcdaa59dce"
      },
      "execution_count": 10,
      "outputs": [
        {
          "output_type": "stream",
          "name": "stdout",
          "text": [
            "Dados ordenados pelo valor total:\n",
            "     Produt       Cor Tamanho  Preço  Quantidade  Valor Total\n",
            "4     Calça      Azul       M  39.99           4       159.96\n",
            "1     Calça     Preto       G  49.99           3       149.97\n",
            "0  Camiseta      Azul       M  29.99           5       149.95\n",
            "3     Tênis  Vermelho       G  79.99           1        79.99\n",
            "2  Camiseta    Branco       P  19.99           2        39.98\n"
          ]
        }
      ]
    },
    {
      "cell_type": "code",
      "source": [
        "# remover as linhas que possuem valor total abaixo de R$100\n",
        "dados_filtrados = dados[dados['Valor Total'] >= 100]\n",
        "print(\"Dados filtrados:\")\n",
        "print(dados_filtrados)\n"
      ],
      "metadata": {
        "colab": {
          "base_uri": "https://localhost:8080/"
        },
        "id": "-PoPtRFTIpYA",
        "outputId": "a82272e8-c19c-402b-adad-e14fd1524f03"
      },
      "execution_count": 11,
      "outputs": [
        {
          "output_type": "stream",
          "name": "stdout",
          "text": [
            "Dados filtrados:\n",
            "     Produt    Cor Tamanho  Preço  Quantidade  Valor Total\n",
            "0  Camiseta   Azul       M  29.99           5       149.95\n",
            "1     Calça  Preto       G  49.99           3       149.97\n",
            "4     Calça   Azul       M  39.99           4       159.96\n"
          ]
        }
      ]
    },
    {
      "cell_type": "code",
      "source": [],
      "metadata": {
        "id": "uixFxdT3I-kp"
      },
      "execution_count": null,
      "outputs": []
    }
  ]
}