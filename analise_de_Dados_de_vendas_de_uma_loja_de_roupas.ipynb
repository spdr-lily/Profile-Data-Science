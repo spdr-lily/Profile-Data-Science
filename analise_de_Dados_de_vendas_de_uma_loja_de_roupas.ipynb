{
 "cells": [
  {
   "cell_type": "markdown",
   "id": "091da180-e04e-4f45-9f26-98e78a0e7394",
   "metadata": {},
   "source": [
    "# Análise de dados de vendas de uma loja de roupas"
   ]
  },
  {
   "cell_type": "code",
   "execution_count": 45,
   "id": "760825db-127b-470d-8014-4078ccc55ead",
   "metadata": {},
   "outputs": [],
   "source": [
    "# ​​Analisar os dados de vendas de uma loja de roupas e apresentar um relatório que mostre a quantidade vendida, \n",
    "# o valor total arrecadado e o preço médio dos produtos vendidos em cada mês do ano. "
   ]
  },
  {
   "cell_type": "code",
   "execution_count": 47,
   "id": "543758b4-3bf0-4b06-b050-c36343b7effd",
   "metadata": {},
   "outputs": [],
   "source": [
    "# passo 1: importar as bibliotecas necessárias\n",
    "import pandas as pd\n",
    "import numpy as np"
   ]
  },
  {
   "cell_type": "code",
   "execution_count": 49,
   "id": "e8189ee6-b3fe-458b-8fab-7270074579bd",
   "metadata": {},
   "outputs": [],
   "source": [
    "# Lista com os nomes dos produtos\n",
    "nomes_produtos = ['Camisa Manga Longa', 'Camisa Gola Polo', 'Camiseta Básica', 'Calça Jeans', 'Sapato Social']"
   ]
  },
  {
   "cell_type": "code",
   "execution_count": 51,
   "id": "b510304d-69e0-4e1a-b0ec-e09d034f9a1a",
   "metadata": {},
   "outputs": [],
   "source": [
    "# Gerando DataFrame com 1000 linhas\n",
    "df = pd.DataFrame({\n",
    "    'ID Produto': np.random.randint(1, 11, 1000),\n",
    "    'Nome Produto': np.random.choice(nomes_produtos, 1000),\n",
    "    'Quantidade Vendida': np.random.randint(1, 21, 1000),\n",
    "    'Preço Unitário': np.round(np.random.uniform(10, 100, 1000), 2),\n",
    "    'Data da Venda': np.random.choice(pd.date_range(start='2021-01-01', end='2021-12-31'), 1000)\n",
    "})"
   ]
  },
  {
   "cell_type": "code",
   "execution_count": 53,
   "id": "d8205320-8e68-4b5c-a100-38aef77f0b8a",
   "metadata": {},
   "outputs": [],
   "source": [
    "# salvando o DataFrame em um arquivo CSV\n",
    "df.to_csv('vendas.csv', index=False)"
   ]
  },
  {
   "cell_type": "code",
   "execution_count": 55,
   "id": "c92d72c8-9588-42a9-8b3a-e344a08c94a2",
   "metadata": {},
   "outputs": [],
   "source": [
    "# passo 2: carregar os dados de vendas, supondo que existe um arquivo CSV com os dados de vendas, carregue-os em um DataFrame\n",
    "df = pd.read_csv('vendas.csv')"
   ]
  },
  {
   "cell_type": "code",
   "execution_count": 57,
   "id": "92b4344c-0a65-48d4-a537-89872c069180",
   "metadata": {},
   "outputs": [],
   "source": [
    "# passo 3: converter a coluna de datas para o formato datetime\n",
    "df['Data da Venda'] = pd.to_datetime(df['Data da Venda'])"
   ]
  },
  {
   "cell_type": "code",
   "execution_count": 59,
   "id": "51dd2a47-a020-47ba-b6e6-b331ad72b413",
   "metadata": {},
   "outputs": [],
   "source": [
    "# passo 4: extrair o mês e o ano das datas de venda:\n",
    "df['Ano'] = df['Data da Venda'].dt.year\n",
    "df['Mês'] = df['Data da Venda'].dt.month"
   ]
  },
  {
   "cell_type": "code",
   "execution_count": 61,
   "id": "d2ec82ea-df04-4173-bb93-c8666855e79f",
   "metadata": {},
   "outputs": [],
   "source": [
    "# passo 5: agrupar os dados por ano e mês\n",
    "df_grouped = df.groupby(['Ano', 'Mês']).agg({\n",
    "    'Quantidade Vendida': 'sum',\n",
    "    'Preço Unitário': 'sum'\n",
    "}).reset_index()"
   ]
  },
  {
   "cell_type": "code",
   "execution_count": 63,
   "id": "64d07298-2f8b-4106-9301-6a0f34c1a564",
   "metadata": {},
   "outputs": [],
   "source": [
    "# passo 6: calcular o valor total arrecadado e o preço médio\n",
    "df_grouped['Valor Total'] = df_grouped['Quantidade Vendida'] * df_grouped['Preço Unitário']\n",
    "df_grouped['Preço Médio'] = df_grouped['Valor Total'] / df_grouped['Quantidade Vendida']"
   ]
  },
  {
   "cell_type": "code",
   "execution_count": 65,
   "id": "d1f394f9-05c1-4522-90ff-ae691ccc7017",
   "metadata": {},
   "outputs": [
    {
     "name": "stdout",
     "output_type": "stream",
     "text": [
      "     Ano  Mês  Quantidade Vendida  Preço Unitário  Valor Total  Preço Médio\n",
      "0   2021    1                 909         4463.99   4057766.91      4463.99\n",
      "1   2021    2                 787         3982.84   3134495.08      3982.84\n",
      "2   2021    3                1038         4858.24   5042853.12      4858.24\n",
      "3   2021    4                 835         4676.30   3904710.50      4676.30\n",
      "4   2021    5                1074         5242.42   5630359.08      5242.42\n",
      "5   2021    6                 822         3797.41   3121471.02      3797.41\n",
      "6   2021    7                 905         4841.40   4381467.00      4841.40\n",
      "7   2021    8                 900         4575.00   4117500.00      4575.00\n",
      "8   2021    9                 819         4907.90   4019570.10      4907.90\n",
      "9   2021   10                 942         5015.39   4724497.38      5015.39\n",
      "10  2021   11                1077         5555.92   5983725.84      5555.92\n",
      "11  2021   12                 711         3540.81   2517515.91      3540.81\n"
     ]
    }
   ],
   "source": [
    "# passo 7: exibir o relatório:\n",
    "print(df_grouped)"
   ]
  },
  {
   "cell_type": "code",
   "execution_count": null,
   "id": "f521ea70-dad5-4d5d-a5f9-cc89a4442437",
   "metadata": {},
   "outputs": [],
   "source": []
  }
 ],
 "metadata": {
  "kernelspec": {
   "display_name": "Python 3 (ipykernel)",
   "language": "python",
   "name": "python3"
  },
  "language_info": {
   "codemirror_mode": {
    "name": "ipython",
    "version": 3
   },
   "file_extension": ".py",
   "mimetype": "text/x-python",
   "name": "python",
   "nbconvert_exporter": "python",
   "pygments_lexer": "ipython3",
   "version": "3.12.4"
  }
 },
 "nbformat": 4,
 "nbformat_minor": 5
}
